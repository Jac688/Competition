{
 "cells": [
  {
   "cell_type": "code",
   "execution_count": 4,
   "id": "3d03243a",
   "metadata": {},
   "outputs": [
    {
     "name": "stdout",
     "output_type": "stream",
     "text": [
      "Looking in indexes: https://pypi.tuna.tsinghua.edu.cn/simple\n",
      "Collecting tushare\n",
      "  Downloading https://pypi.tuna.tsinghua.edu.cn/packages/d5/27/25bee559f82e02b96005d8d0845f72eaa56d7d2e63cc9474d7572d2bf0e1/tushare-1.2.83-py3-none-any.whl (130 kB)\n",
      "Collecting websocket-client==0.57.0\n",
      "  Downloading https://pypi.tuna.tsinghua.edu.cn/packages/4c/5f/f61b420143ed1c8dc69f9eaec5ff1ac36109d52c80de49d66e0c36c3dfdf/websocket_client-0.57.0-py2.py3-none-any.whl (200 kB)\n",
      "Requirement already satisfied: requests in d:\\anaconda\\anaconda\\lib\\site-packages (from tushare) (2.24.0)\n",
      "Collecting bs4\n",
      "  Downloading https://pypi.tuna.tsinghua.edu.cn/packages/10/ed/7e8b97591f6f456174139ec089c769f89a94a1a4025fe967691de971f314/bs4-0.0.1.tar.gz (1.1 kB)\n",
      "  Preparing metadata (setup.py): started\n",
      "  Preparing metadata (setup.py): finished with status 'done'\n",
      "Collecting simplejson\n",
      "  Downloading https://pypi.tuna.tsinghua.edu.cn/packages/85/3b/83399940ddd2726b1ad3e4f2533ad41312539b2a4973b77f9760798860a0/simplejson-3.17.6-cp38-cp38-win_amd64.whl (75 kB)\n",
      "Requirement already satisfied: lxml in d:\\anaconda\\anaconda\\lib\\site-packages (from tushare) (4.6.3)\n",
      "Requirement already satisfied: pandas in d:\\anaconda\\anaconda\\lib\\site-packages (from tushare) (1.2.4)\n",
      "Requirement already satisfied: six in d:\\anaconda\\anaconda\\lib\\site-packages (from websocket-client==0.57.0->tushare) (1.15.0)\n",
      "Requirement already satisfied: beautifulsoup4 in d:\\anaconda\\anaconda\\lib\\site-packages (from bs4->tushare) (4.9.3)\n",
      "Requirement already satisfied: python-dateutil>=2.7.3 in d:\\anaconda\\anaconda\\lib\\site-packages (from pandas->tushare) (2.8.1)\n",
      "Requirement already satisfied: pytz>=2017.3 in d:\\anaconda\\anaconda\\lib\\site-packages (from pandas->tushare) (2021.1)\n",
      "Requirement already satisfied: numpy>=1.16.5 in d:\\anaconda\\anaconda\\lib\\site-packages (from pandas->tushare) (1.19.5)\n",
      "Requirement already satisfied: idna<3,>=2.5 in d:\\anaconda\\anaconda\\lib\\site-packages (from requests->tushare) (2.10)\n",
      "Requirement already satisfied: urllib3!=1.25.0,!=1.25.1,<1.26,>=1.21.1 in d:\\anaconda\\anaconda\\lib\\site-packages (from requests->tushare) (1.25.11)\n",
      "Requirement already satisfied: certifi>=2017.4.17 in d:\\anaconda\\anaconda\\lib\\site-packages (from requests->tushare) (2020.12.5)\n",
      "Requirement already satisfied: chardet<4,>=3.0.2 in d:\\anaconda\\anaconda\\lib\\site-packages (from requests->tushare) (3.0.4)\n",
      "Requirement already satisfied: soupsieve>1.2 in d:\\anaconda\\anaconda\\lib\\site-packages (from beautifulsoup4->bs4->tushare) (2.2.1)\n",
      "Building wheels for collected packages: bs4\n",
      "  Building wheel for bs4 (setup.py): started\n",
      "  Building wheel for bs4 (setup.py): finished with status 'done'\n",
      "  Created wheel for bs4: filename=bs4-0.0.1-py3-none-any.whl size=1273 sha256=2c88af9563660dad7437811e7bb987d4fb92ccdd54cbfc4ae1bb4d3365b1d19d\n",
      "  Stored in directory: c:\\users\\56492\\appdata\\local\\pip\\cache\\wheels\\3b\\fb\\fd\\c34d8e6cb51eabd4657dff7afb6e4b32196972175a33500555\n",
      "Successfully built bs4\n",
      "Installing collected packages: websocket-client, simplejson, bs4, tushare\n",
      "Successfully installed bs4-0.0.1 simplejson-3.17.6 tushare-1.2.83 websocket-client-0.57.0\n"
     ]
    }
   ],
   "source": [
    "!pip install tushare\n",
    "import numpy as np\n",
    "import tushare as ts\n",
    "import matplotlib.pyplot as plt\n",
    "import pandas as pd\n",
    "from sklearn.linear_model import LinearRegression\n",
    "import pywt"
   ]
  },
  {
   "cell_type": "code",
   "execution_count": 57,
   "id": "d6ddf28d",
   "metadata": {
    "scrolled": true
   },
   "outputs": [
    {
     "name": "stderr",
     "output_type": "stream",
     "text": [
      "D:\\Anaconda\\anaconda\\lib\\site-packages\\numpy\\lib\\arraysetops.py:580: FutureWarning: elementwise comparison failed; returning scalar instead, but in the future will perform elementwise comparison\n",
      "  mask |= (ar1 == a)\n"
     ]
    }
   ],
   "source": [
    "df = pd.read_csv('./g-research-crypto-forecasting/train.csv',encoding = 'utf-8',index_col = 0)"
   ]
  },
  {
   "cell_type": "code",
   "execution_count": null,
   "id": "72a7cff2",
   "metadata": {},
   "outputs": [],
   "source": [
    "\n",
    "#(ca,cd) = pywt.dwt(close,'db3') #离散小波变换\n",
    "#cat = pywt.threshold(ca,np.std(ca),mode = 'soft')\n",
    "#cdt = pywt.threshold(cd,np.std(cd),mode = 'soft')\n",
    "#close1 = pywt.idwt(cat,cdt,'db3') "
   ]
  },
  {
   "cell_type": "code",
   "execution_count": 7,
   "id": "0eb33974",
   "metadata": {},
   "outputs": [],
   "source": [
    "asset_0 = df[df['Asset_ID'] == 0]\n",
    "close_0 = asset_0['Close']"
   ]
  },
  {
   "cell_type": "code",
   "execution_count": 36,
   "id": "4d3ea8b2",
   "metadata": {},
   "outputs": [],
   "source": [
    "#模块调用\n",
    "import numpy as np\n",
    "import math\n",
    "import pywt\n",
    "\n",
    "\n",
    "#封装成函数\n",
    "def sgn(num):\n",
    "    if (num > 0):\n",
    "        return 1.0\n",
    "    elif (num == 0):\n",
    "        return 0.0\n",
    "    else:\n",
    "        return -1.0\n",
    "\n",
    "\n",
    "def wavelet_noising(new_df):\n",
    "    data = new_df\n",
    "    data = data.values.T.tolist()  # 将np.ndarray()转为列表\n",
    "    w = pywt.Wavelet('sym8')\n",
    "    # [ca3, cd3, cd2, cd1] = pywt.wavedec(data, w, level=3)  # 分解波\n",
    "    [ca5, cd5, cd4, cd3, cd2, cd1] = pywt.wavedec(data, w, level=5)  # 分解波\n",
    "\n",
    "    length1 = len(cd1)\n",
    "    length0 = len(data)\n",
    "\n",
    "    Cd1 = np.array(cd1)\n",
    "    abs_cd1 = np.abs(Cd1)\n",
    "    median_cd1 = np.median(abs_cd1)\n",
    "\n",
    "    sigma = (1.0 / 0.6745) * median_cd1\n",
    "    lamda = sigma * math.sqrt(2.0 * math.log(float(length0), math.e))\n",
    "    usecoeffs = []\n",
    "    usecoeffs.append(ca5)  # 向列表末尾添加对象\n",
    "    #软硬阈值折中的方法\n",
    "    a = 0.5\n",
    "\n",
    "    for k in range(length1):\n",
    "        if (abs(cd1[k]) >= lamda):\n",
    "            cd1[k] = sgn(cd1[k]) * (abs(cd1[k]) - a * lamda)\n",
    "        else:\n",
    "            cd1[k] = 0.0\n",
    "\n",
    "    length2 = len(cd2)\n",
    "    for k in range(length2):\n",
    "        if (abs(cd2[k]) >= lamda):\n",
    "            cd2[k] = sgn(cd2[k]) * (abs(cd2[k]) - a * lamda)\n",
    "        else:\n",
    "            cd2[k] = 0.0\n",
    "\n",
    "    length3 = len(cd3)\n",
    "    for k in range(length3):\n",
    "        if (abs(cd3[k]) >= lamda):\n",
    "            cd3[k] = sgn(cd3[k]) * (abs(cd3[k]) - a * lamda)\n",
    "        else:\n",
    "            cd3[k] = 0.0\n",
    "\n",
    "    length4 = len(cd4)\n",
    "    for k in range(length4):\n",
    "        if (abs(cd4[k]) >= lamda):\n",
    "            cd4[k] = sgn(cd4[k]) * (abs(cd4[k]) - a * lamda)\n",
    "        else:\n",
    "            cd4[k] = 0.0\n",
    "\n",
    "    length5 = len(cd5)\n",
    "    for k in range(length5):\n",
    "        if (abs(cd5[k]) >= lamda):\n",
    "            cd5[k] = sgn(cd5[k]) * (abs(cd5[k]) - a * lamda)\n",
    "        else:\n",
    "            cd5[k] = 0.0\n",
    "\n",
    "    usecoeffs.append(cd5)\n",
    "\n",
    "    usecoeffs.append(cd4)\n",
    "    usecoeffs.append(cd3)\n",
    "    usecoeffs.append(cd2)\n",
    "    usecoeffs.append(cd1)\n",
    "    recoeffs = pywt.waverec(usecoeffs, w)\n",
    "    return recoeffs\n",
    "\n",
    "\n",
    "def denoise(data):\n",
    "    data_denoising = wavelet_noising(data)  #调用小波去噪函数\n",
    "    return data_denoising"
   ]
  },
  {
   "cell_type": "code",
   "execution_count": 49,
   "id": "2bfecae0",
   "metadata": {},
   "outputs": [],
   "source": [
    "close_0_denoise = denoise(asset_0['Close'])"
   ]
  },
  {
   "cell_type": "code",
   "execution_count": 50,
   "id": "f6490943",
   "metadata": {},
   "outputs": [
    {
     "data": {
      "text/plain": [
       "1942619"
      ]
     },
     "execution_count": 50,
     "metadata": {},
     "output_type": "execute_result"
    }
   ],
   "source": [
    "close_0_denoise_res = []\n",
    "for i in range(len(close_0_denoise)-1):\n",
    "    close_0_denoise_res.append((close_0_denoise[i]+close_0_denoise[i+1])/2)\n",
    "len(close_0_denoise_res)"
   ]
  },
  {
   "cell_type": "code",
   "execution_count": 56,
   "id": "ab1c1e7f",
   "metadata": {
    "scrolled": true
   },
   "outputs": [
    {
     "data": {
      "image/png": "[encoded data removed]",
      "text/plain": [
       "<Figure size 432x288 with 1 Axes>"
      ]
     },
     "metadata": {
      "needs_background": "light"
     },
     "output_type": "display_data"
    }
   ],
   "source": [
    "length = len(close_0)\n",
    "plt.plot(range(length),close_0,'b')\n",
    "plt.plot(range(length),close_0_denoise_res,'--r')\n",
    "plt.tight_layout\n",
    "plt.show()"
   ]
  },
  {
   "cell_type": "code",
   "execution_count": 43,
   "id": "726f9843",
   "metadata": {},
   "outputs": [
    {
     "name": "stdout",
     "output_type": "stream",
     "text": [
      "1942619 1942620\n"
     ]
    }
   ],
   "source": [
    "print(len(close_0),len(close_0_denoise))"
   ]
  },
  {
   "cell_type": "code",
   "execution_count": 48,
   "id": "87b5d0ca",
   "metadata": {},
   "outputs": [
    {
     "data": {
      "text/plain": [
       "1942619"
      ]
     },
     "execution_count": 48,
     "metadata": {},
     "output_type": "execute_result"
    }
   ],
   "source": []
  },
  {
   "cell_type": "code",
   "execution_count": 24,
   "id": "16abe5bb",
   "metadata": {},
   "outputs": [
    {
     "name": "stdout",
     "output_type": "stream",
     "text": [
      "[ 1.  2.  3.  4.  5.  6.  7.  8.  9. 10.]\n",
      "[12. 12. 12. 12. 12.  0.  1.  2.  3.  4.]\n",
      "[12. 12. 12. 12. 12.  6.  7.  8.  9. 10.]\n",
      "[12. 12. 12. 12. 12.  6.  7.  8.  9. 10.]\n",
      "[ 1.  2.  3.  4.  5.  6. 12. 12. 12. 12.]\n"
     ]
    }
   ],
   "source": [
    "#coding=gbk\n",
    "#使用小波分析进行阈值去噪声,使用pywt.threshold\n",
    " \n",
    "import pywt\n",
    "import numpy as np\n",
    "import pandas as pd \n",
    "import matplotlib.pyplot as plt \n",
    "import math \n",
    " \n",
    "data = np.linspace(1, 10, 10)\n",
    "print(data)\n",
    "# [ 1.  2.  3.  4.  5.  6.  7.  8.  9. 10.]\n",
    "# pywt.threshold(data, value, mode, substitute) mode 模式有4种，soft, hard, greater, less; substitute是替换值\n",
    " \n",
    "data_soft = pywt.threshold(data=data, value=6, mode='soft', substitute=12)\n",
    "print(data_soft)\n",
    "# [12. 12. 12. 12. 12.  0.  1.  2.  3.  4.] 将小于6 的值设置为12， 大于等于6 的值全部减去6\n",
    " \n",
    "data_hard = pywt.threshold(data=data, value=6, mode='hard', substitute=12)\n",
    "print(data_hard)\n",
    "# [12. 12. 12. 12. 12.  6.  7.  8.  9. 10.] 将小于6 的值设置为12， 其余的值不变\n",
    " \n",
    "data_greater = pywt.threshold(data, 6, 'greater', 12)\n",
    "print(data_greater)\n",
    "# [12. 12. 12. 12. 12.  6.  7.  8.  9. 10.] 将小于6 的值设置为12，大于等于阈值的值不变化\n",
    " \n",
    "data_less = pywt.threshold(data, 6, 'less', 12)\n",
    "print(data_less)\n",
    "# [ 1.  2.  3.  4.  5.  6. 12. 12. 12. 12.] 将大于6 的值设置为12， 小于等于阈值的值不变\n"
   ]
  },
  {
   "cell_type": "code",
   "execution_count": 26,
   "id": "845251ad",
   "metadata": {},
   "outputs": [
    {
     "name": "stdout",
     "output_type": "stream",
     "text": [
      "maximum level is 6\n"
     ]
    },
    {
     "data": {
      "text/plain": [
       "<Figure size 432x288 with 0 Axes>"
      ]
     },
     "metadata": {},
     "output_type": "display_data"
    },
    {
     "data": {
      "image/png": "[encoded data removed]",
      "text/plain": [
       "<Figure size 432x288 with 2 Axes>"
      ]
     },
     "metadata": {
      "needs_background": "light"
     },
     "output_type": "display_data"
    }
   ],
   "source": []
  },
  {
   "cell_type": "code",
   "execution_count": null,
   "id": "ce287d71",
   "metadata": {},
   "outputs": [],
   "source": []
  }
 ],
 "metadata": {
  "kernelspec": {
   "display_name": "Python 3",
   "language": "python",
   "name": "python3"
  },
  "language_info": {
   "codemirror_mode": {
    "name": "ipython",
    "version": 3
   },
   "file_extension": ".py",
   "mimetype": "text/x-python",
   "name": "python",
   "nbconvert_exporter": "python",
   "pygments_lexer": "ipython3",
   "version": "3.8.8"
  }
 },
 "nbformat": 4,
 "nbformat_minor": 5
}
